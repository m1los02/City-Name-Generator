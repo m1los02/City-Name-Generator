{
 "cells": [
  {
   "cell_type": "markdown",
   "id": "705c9e26",
   "metadata": {},
   "source": [
    "# City Name Generator"
   ]
  },
  {
   "cell_type": "code",
   "execution_count": 1,
   "id": "6cf180fc",
   "metadata": {},
   "outputs": [],
   "source": [
    "import torch\n",
    "import torch.nn.functional as F\n",
    "import numpy as np\n",
    "import pandas as pd\n",
    "import matplotlib.pyplot as plt\n",
    "import random\n",
    "import math\n",
    "GPU = True\n",
    "device = torch.device('cuda' if (torch.cuda.is_available() and GPU) else 'cpu')"
   ]
  },
  {
   "cell_type": "markdown",
   "id": "b4afb260",
   "metadata": {},
   "source": [
    "This project is inspired by Andrej Karpathy’s makemore series, which teaches how to build neural networks from scratch in a really hands-on way. I’m doing this as part of my learning process to better understand how neural networks and natural language processing (NLP) work.\n",
    "\n",
    "<br>\n",
    "\n",
    "The main idea is to train a neural network that can generate new city names that sound like real U.S. cities. It won’t be copying existing names, but instead learning patterns from them, like common letter combinations and name structures, to come up with completely new (and hopefully realistic-sounding) ones.\n",
    "\n",
    "<br>\n",
    "\n",
    "For the data, I’m using a U.S. cities dataset from SimpleMaps.com. It includes a bunch of information like the city name, state, and county, but for this project I’m only using the city names. That’s all the model needs to learn how cities are usually named in the U.S.\n",
    "\n",
    "<br>\n",
    "\n",
    "This project is mostly for practice and experimenting.\n",
    "\n"
   ]
  },
  {
   "cell_type": "markdown",
   "id": "fb0c4b0b",
   "metadata": {},
   "source": [
    "This project also includes ideas and techniques from a few well-known research papers:\n",
    "\n",
    "- Bengio et al. (2003) – for using embeddings to represent characters in a more meaningful way.<br>\n",
    "\n",
    "- Batch Normalization: Accelerating Deep Network Training by Reducing Internal Covariate Shift – for adding a BatchNorm layer to help stabilize variance and speed up training.<br>\n",
    "\n",
    "- Delving Deep into Rectifiers: Surpassing Human-Level Performance on ImageNet Classification – for using Kaiming (He) initialization to improve weight initialization.<br>\n",
    "\n",
    "- WaveNet: A Generative Model for Raw Audio – for the WaveNet architecture.<br>"
   ]
  },
  {
   "cell_type": "markdown",
   "id": "5b802e31",
   "metadata": {},
   "source": [
    "## Creating Dataset\n",
    "\n",
    "To train our neural network, we first need to extract just the city names from the dataset. Then, using a parameter called block_size, we’ll turn these names into training examples for the model.\n",
    "\n",
    "For example, using the city name Boston\" and a block_size of 3, we generate input-output pairs like this:\n",
    "\n",
    "$$\\text{^^^ -> b}$$\n",
    "$$\\text{^^b -> o}$$\n",
    "$$\\text{^bo -> s}$$\n",
    "$$\\text{bos -> t}$$\n",
    "$$\\text{ost -> o}$$\n",
    "$$\\text{sto -> n}$$\n",
    "$$\\text{ton -> ^}$$\n",
    "\n",
    "where . is a special character indicating either beggining or ending of the name.\n",
    "\n",
    "<br>\n",
    "\n",
    "Once all the training examples are created, we split the dataset into:\n",
    "\n",
    "80% for training\n",
    "\n",
    "10% for validation (dev)\n",
    "\n",
    "10% for testing\n",
    "\n",
    "<br>\n",
    "\n",
    "Note: All the letters will be made lowercase - this will reduce our vocabulary size"
   ]
  },
  {
   "cell_type": "code",
   "execution_count": 2,
   "id": "9f7ce487",
   "metadata": {},
   "outputs": [],
   "source": [
    "cities = pd.read_csv('uscities.csv')['city'].to_list()\n",
    "cities = list(set(cities)) # removing duplicates\n",
    "cities = [city.lower() for city in cities]\n",
    "chars = sorted(list(set(''.join(cities))))\n",
    "stoi = {s:i+1 for i,s in enumerate(chars)}\n",
    "stoi['^'] = 0\n",
    "itos = {i:s for s,i in stoi.items()}\n",
    "vocab_size = len(stoi)"
   ]
  },
  {
   "cell_type": "markdown",
   "id": "00310222",
   "metadata": {},
   "source": [
    "### Example of input/output pairs"
   ]
  },
  {
   "cell_type": "code",
   "execution_count": 3,
   "id": "79d8af32",
   "metadata": {},
   "outputs": [
    {
     "name": "stdout",
     "output_type": "stream",
     "text": [
      "^ ^ ^    --->    f\n",
      "^ ^ f    --->    a\n",
      "^ f a    --->    i\n",
      "f a i    --->    r\n",
      "a i r    --->    v\n",
      "i r v    --->    i\n",
      "r v i    --->    e\n",
      "v i e    --->    w\n",
      "i e w    --->    -\n",
      "e w -    --->    f\n",
      "w - f    --->    e\n",
      "- f e    --->    r\n",
      "f e r    --->    n\n",
      "e r n    --->    d\n",
      "r n d    --->    a\n",
      "n d a    --->    l\n",
      "d a l    --->    e\n",
      "a l e    --->    ^\n",
      "^ ^ ^    --->    c\n",
      "^ ^ c    --->    o\n",
      "^ c o    --->    n\n",
      "c o n    --->    n\n",
      "o n n    --->    e\n",
      "n n e    --->    l\n",
      "n e l    --->    s\n",
      "e l s    --->    v\n",
      "l s v    --->    i\n",
      "s v i    --->    l\n",
      "v i l    --->    l\n",
      "i l l    --->    e\n",
      "l l e    --->    ^\n"
     ]
    }
   ],
   "source": [
    "X = []\n",
    "Y = []\n",
    "block_size = 3\n",
    "for city in cities[:2]:\n",
    "    context = [0] * block_size\n",
    "    for char in city + '^':\n",
    "        ix = stoi[char]\n",
    "        X.append(context)\n",
    "        Y.append(ix)\n",
    "        print(*[itos[ix] for ix in context], end = '    ')\n",
    "        print(f'--->    {char}')\n",
    "        context = context[1:] + [ix]\n",
    "cities[:2]\n",
    "random.shuffle(cities)"
   ]
  },
  {
   "cell_type": "markdown",
   "id": "077046fb",
   "metadata": {},
   "source": [
    "## Making input/output pairs and splits"
   ]
  },
  {
   "cell_type": "code",
   "execution_count": 4,
   "id": "675af3b5",
   "metadata": {},
   "outputs": [
    {
     "name": "stdout",
     "output_type": "stream",
     "text": [
      "Shape of the input data torch.Size([178675, 8])\n",
      "Shape of the output data torch.Size([178675])\n",
      "Shape of the input data torch.Size([22365, 8])\n",
      "Shape of the output data torch.Size([22365])\n",
      "Shape of the input data torch.Size([22475, 8])\n",
      "Shape of the output data torch.Size([22475])\n"
     ]
    }
   ],
   "source": [
    "block_size = 8\n",
    "\n",
    "def data_split(cities):  \n",
    "    X = []\n",
    "    Y = []\n",
    "    for city in cities:\n",
    "        context = [0] * block_size\n",
    "        for char in city + '^':\n",
    "            ix = stoi[char]\n",
    "            X.append(context)\n",
    "            Y.append(ix)\n",
    "            context = context[1:] + [ix]\n",
    "\n",
    "    X = torch.tensor(X)\n",
    "    Y = torch.tensor(Y)\n",
    "    print(f'Shape of the input data {X.shape}')\n",
    "    print(f'Shape of the output data {Y.shape}')\n",
    "    return X, Y\n",
    "\n",
    "n1 = int(0.8 * len(cities))\n",
    "n2 = int(0.9 * len(cities))\n",
    "\n",
    "X_tr, Y_tr = data_split(cities[:n1])\n",
    "X_dev, Y_dev = data_split(cities[n1:n2])\n",
    "X_te, Y_te = data_split(cities[n2:])"
   ]
  },
  {
   "cell_type": "markdown",
   "id": "b93a62e4",
   "metadata": {},
   "source": [
    "## Modules\n",
    "First let's create from scracth necessary modules (pytorch-like) that are going to be needed for this project."
   ]
  },
  {
   "cell_type": "code",
   "execution_count": 5,
   "id": "00b724dd",
   "metadata": {},
   "outputs": [],
   "source": [
    "class Linear():\n",
    "    def __init__(self, fan_in, fan_out, bias=True, gain=1):\n",
    "        '''\n",
    "        Initializes a linear (fully connected) layer.\n",
    "        \n",
    "        Args:\n",
    "            fan_in (int) - number of input features\n",
    "            fan_out (int) - number of output featurse\n",
    "            bias (bool) - if True will include bias term, otherwise will not\n",
    "            gain (float) - gain of the Kaiming (He) initialization (for ReLu is sqrt(2), for Tanh 5/3)\n",
    "        '''\n",
    "        self.weight = torch.randn((fan_in, fan_out), device=device) * gain / (fan_in**0.5)\n",
    "        self.bias  = torch.zeros(fan_out, device=device) if bias else None\n",
    "        \n",
    "    def __call__(self, x):\n",
    "        '''\n",
    "        Performs a forward pass through the Linear layer : y = x @ W (+ b)\n",
    "        \n",
    "        Args:\n",
    "            x (tensor) - input shape is (batch_size, fan_in)\n",
    "            \n",
    "        Output:\n",
    "            self.out (tensor) - output shape is (batch_size, fan_out)\n",
    "        '''\n",
    "        self.out = x @ self.weight\n",
    "        if self.bias is not None:\n",
    "            self.out += self.bias\n",
    "        return self.out\n",
    "    \n",
    "    def parameters(self):\n",
    "        '''\n",
    "        Returns a list of all the learnable parameters of the Linear Layer\n",
    "        '''\n",
    "        return [self.weight] + ([] if self.bias is None else [self.bias])\n",
    "\n",
    "    \n",
    "class Tanh():\n",
    "    '''\n",
    "    Tanh non-linearity layer.\n",
    "    '''\n",
    "    def __call__(self, x):\n",
    "        '''\n",
    "        Performs a forward pass through the tanh non-linearity layer : y = tanh(x)\n",
    "        \n",
    "        Args:\n",
    "            x (tensor) - input shape is (batch_size, fan_in)\n",
    "            \n",
    "        Output:\n",
    "            self.out (tensor) - output shape is (batch_size, fan_in)\n",
    "        '''\n",
    "        self.out = torch.tanh(x)\n",
    "        return self.out\n",
    "    \n",
    "    def parameters(self):\n",
    "        '''\n",
    "        Returns an empty list since Tanh has no learnable parameters.\n",
    "        '''\n",
    "        return []\n",
    "    \n",
    "    \n",
    "class Embedding():\n",
    "    \"\"\"\n",
    "    Embedding layer for mapping discrete character indices to dense vectors.\n",
    "    \"\"\"\n",
    "    def __init__(self, vocab_size, emb_dim):\n",
    "        '''\n",
    "        Initializes the embedding matrix.\n",
    "        \n",
    "        Args:\n",
    "            vocab_size (int) - number of characters in the vocabulary\n",
    "            emb_dim (int) - dimension of the embedding vectors\n",
    "        '''\n",
    "        self.embedding_table = torch.randn((vocab_size, emb_dim), device=device)\n",
    "        \n",
    "    def __call__(self, x):\n",
    "        '''\n",
    "        Performs a forward pass through the Embedding layer, i.e. it is embedding characters into emb_dim dimensional vector.\n",
    "        \n",
    "        Args:\n",
    "            x (tensor) - input shape is (batch_size, fan_in)\n",
    "            \n",
    "        Output:\n",
    "            self.out (tensor) - output shape is (batch_size, fan_in, emb_dim)\n",
    "        '''\n",
    "        self.out = self.embedding_table[x]\n",
    "        return self.out\n",
    "    \n",
    "    def parameters(self):\n",
    "        '''\n",
    "        Returns a list of all the learnable parameters of the Embedding Layer - only the Embedding matrix\n",
    "        '''\n",
    "        return [self.embedding_table]\n",
    "\n",
    "    \n",
    "class Flatten():\n",
    "    '''\n",
    "    Flatten layer reshapes the input tensor by concatenating groups of characters along the feature dimension.\n",
    "    '''\n",
    "    def __init__(self, n):\n",
    "        '''\n",
    "        Initializes the Flatten layer.\n",
    "        \n",
    "        Args:\n",
    "            n (int) - number of characters that are going to be concatenated\n",
    "        '''\n",
    "        self.n = n\n",
    "    \n",
    "    def __call__(self, x):\n",
    "        '''\n",
    "        Concatenates desired number of characters. If the time (T) dimension becomes 1 it is squeezed out.\n",
    "        \n",
    "        Args:\n",
    "            x (tensor) - input shape is (B, T, C)\n",
    "        Output:\n",
    "            self.out (tensor) - input shape is (B, T//n, C*n) if T//n is 1, the the output shape is (B, C*n)\n",
    "        '''\n",
    "        B, T, C = x.shape\n",
    "        x = x.view(B, T//self.n, C*self.n)\n",
    "        if x.shape[1] == 1:\n",
    "            x = x.squeeze(1)\n",
    "        self.out = x\n",
    "        return self.out\n",
    "    \n",
    "    def parameters(self):\n",
    "        '''\n",
    "        Returns an empty list since Flatten has no learnable parameters.\n",
    "        '''\n",
    "        return []\n",
    "\n",
    "    \n",
    "class Sequential():\n",
    "    '''\n",
    "    A Container class that is going to store all our layers.\n",
    "    '''\n",
    "    def __init__(self, layers):\n",
    "        '''\n",
    "        Initializes Sequential with all the layers in our network\n",
    "        \n",
    "        Args:\n",
    "            layers (list): List of layer objects to apply in sequence.\n",
    "        '''\n",
    "        self.layers = layers\n",
    "    \n",
    "    def __call__(self, x):\n",
    "        '''\n",
    "        Does a forward pass through all the layers inside this container\n",
    "        \n",
    "        Args:\n",
    "            x (Tensor): Input tensor\n",
    "\n",
    "        Output:\n",
    "            Tensor: Output tensor after applying all layers\n",
    "        '''\n",
    "        for layer in self.layers:\n",
    "            x = layer(x)\n",
    "        self.out = x\n",
    "        return self.out\n",
    "    \n",
    "    def parameters(self):\n",
    "        '''\n",
    "        Returns all the learnable parameters of the layers that are soted inside\n",
    "        '''\n",
    "        return [p for layer in self.layers for p in layer.parameters()]\n",
    "    \n",
    "    def to(self, device):\n",
    "        for p in self.parameters():\n",
    "            p.data = p.data.to(device)\n",
    "    \n",
    "    \n",
    "    \n",
    "class BatchNorm():\n",
    "    \"\"\"\n",
    "    BatchNorm layer that normalizes inputs to stabilize and accelerate training.\n",
    "    Supports both 2D and 3D tensors.\n",
    "    \"\"\"\n",
    "    def __init__(self, dim, momentum = 0.1, eps = 1e-8):\n",
    "        '''\n",
    "        Initializes BatchNorm layer.\n",
    "        \n",
    "        Args:\n",
    "            dim (int): Number of features (usually the size of the last dimension).\n",
    "            momentum (float) - used to calculate running mean and variance\n",
    "            eps (float) - small positive number that helps to avoid division by zero when narmalizing by standard deviation\n",
    "        \n",
    "        Atributes:\n",
    "            training (bool) - indicates wheter the model is in training state or in eval state\n",
    "            gamma (float) - BatchNorm layer parameter used to scale the normalized inputs\n",
    "            beta (float) - BatchNorm layer parameter used to shift the normalized inputs\n",
    "            running_mean (float) - stores calculated mean \n",
    "            running_var (float) - stores calculated var\n",
    "        '''\n",
    "        self.momentum = momentum\n",
    "        self.eps = eps\n",
    "        self.training = True\n",
    "        self.gamma = torch.ones(dim, device=device)\n",
    "        self.beta = torch.zeros(dim, device=device)\n",
    "        self.running_mean = torch.zeros(dim, device=device)\n",
    "        self.running_var = torch.ones(dim, device=device)\n",
    "    \n",
    "    def __call__(self, x):\n",
    "        \"\"\"\n",
    "        Applies batch normalization to input tensor as defined in the paper.\n",
    "\n",
    "        Args:\n",
    "            x (Tensor): Input tensor of shape (B, C) or (B, T, C)\n",
    "\n",
    "        Returns:\n",
    "            self.out (tensor): Normalized and scaled input\n",
    "        \"\"\"\n",
    "        if self.training:\n",
    "            if x.ndim == 3:\n",
    "                dim = (0, 1)         \n",
    "            elif x.ndim == 2:\n",
    "                dim = 0   \n",
    "            x_mean = x.mean(dim=dim, keepdim=True)\n",
    "            x_var = x.var(dim=dim, keepdim=True)\n",
    "        else:\n",
    "            x_mean = self.running_mean\n",
    "            x_var = self.running_var\n",
    "        \n",
    "        if self.training:\n",
    "            with torch.no_grad():\n",
    "                self.running_mean = (1-self.momentum)*self.running_mean + self.momentum*x_mean\n",
    "                self.running_var = (1-self.momentum)*self.running_var + self.momentum*x_var\n",
    "        \n",
    "        self.out = self.gamma * ((x-x_mean)/torch.sqrt(x_var+self.eps)) + self.beta\n",
    "        return self.out\n",
    "        \n",
    "    def parameters(self):\n",
    "        '''\n",
    "        Return all the learnable parameters of the BatchNOrm layer\n",
    "        '''\n",
    "        return [self.gamma, self.beta]"
   ]
  },
  {
   "cell_type": "code",
   "execution_count": 6,
   "id": "ffb7adc2",
   "metadata": {},
   "outputs": [],
   "source": [
    "def eval_split(split, model):\n",
    "    for layer in model.layers:\n",
    "        if isinstance(layer, BatchNorm):\n",
    "            layer.training = False\n",
    "    x, y = {'train': (X_tr, Y_tr),\n",
    "            'dev'  : (X_dev, Y_dev),\n",
    "            'test' : (X_te, Y_te)}[split]\n",
    "    x, y = x.to(device), y.to(device)\n",
    "    logits = model(x)\n",
    "    loss = F.cross_entropy(logits, y)\n",
    "    print(split, loss.item())\n",
    "    for layer in model.layers:\n",
    "        if isinstance(layer, BatchNorm):\n",
    "            layer.training = True"
   ]
  },
  {
   "cell_type": "code",
   "execution_count": 7,
   "id": "68291f78",
   "metadata": {},
   "outputs": [],
   "source": [
    "def find_learning_rate(lre, batch_size, model):\n",
    "    lrs = 10**lre\n",
    "    losses = []\n",
    "\n",
    "    for lr in lrs:\n",
    "\n",
    "        ix = torch.randint(high=X_tr.shape[0], size=(batch_size,))\n",
    "        Xb, Yb = X_tr[ix], Y_tr[ix]\n",
    "\n",
    "        logits = model(Xb)\n",
    "        loss = F.cross_entropy(logits, Yb)\n",
    "        losses.append(loss.log10().item())\n",
    "\n",
    "        for p in model.parameters():\n",
    "            p.grad = None\n",
    "\n",
    "        loss.backward()\n",
    "        for p in model.parameters():\n",
    "            p.data -= lr*p.grad\n",
    "    plt.figure()\n",
    "    plt.plot(lre,losses)\n",
    "    plt.xlabel('log10(learning_rate)')\n",
    "    plt.ylabel('loss')"
   ]
  },
  {
   "cell_type": "code",
   "execution_count": 8,
   "id": "c6f9ef00",
   "metadata": {},
   "outputs": [],
   "source": [
    "def train_model(model, bath_size, lr, max_steps):\n",
    "    losses = []\n",
    "    \n",
    "    for i in range(max_steps):\n",
    "        ix = torch.randint(high=X_tr.shape[0], size=(batch_size,))\n",
    "        Xb, Yb = X_tr[ix].to(device), Y_tr[ix].to(device)\n",
    "\n",
    "        logits = model(Xb)\n",
    "        loss = F.cross_entropy(logits, Yb)\n",
    "        loss_val = loss.item()\n",
    "        losses.append(math.log10(loss_val))\n",
    "\n",
    "        for p in model.parameters():\n",
    "            p.grad = None\n",
    "        \n",
    "        if i == int(0.7*max_steps):\n",
    "            lr /= 10\n",
    "        \n",
    "        loss.backward()\n",
    "        for p in model.parameters():\n",
    "            p.data -= lr*p.grad\n",
    "            \n",
    "        if i % 10000 == 0:\n",
    "             print(f'{i:7d}/{max_steps:7d}: {loss.item():.4f}')\n",
    "          \n",
    "    return losses"
   ]
  },
  {
   "cell_type": "code",
   "execution_count": 9,
   "id": "825f6fb8",
   "metadata": {},
   "outputs": [],
   "source": [
    "def plot_loss(loss):\n",
    "    plt.plot(torch.tensor(loss).view(-1, 1000).mean(1))"
   ]
  },
  {
   "cell_type": "code",
   "execution_count": 28,
   "id": "df53d6b1",
   "metadata": {},
   "outputs": [],
   "source": [
    "emb_dim = 10\n",
    "n_hidden = 20\n",
    "model1 = Sequential([\n",
    "    Embedding(vocab_size, emb_dim),\n",
    "    Flatten(2), Linear(2*emb_dim, n_hidden, gain=5/3, bias=False), BatchNorm(n_hidden), Tanh(),\n",
    "    Flatten(2), Linear(2*n_hidden, 2*n_hidden, gain=5/3, bias=False), BatchNorm(2*n_hidden), Tanh(),\n",
    "    Flatten(2), Linear(4*n_hidden, 4*n_hidden, gain=5/3, bias=False), BatchNorm(4*n_hidden), Tanh(),\n",
    "    Linear(4*n_hidden, vocab_size, gain=0.1)\n",
    "])\n",
    "\n",
    "model1.to(device)\n",
    "    \n",
    "for p in model1.parameters():\n",
    "    p.requires_grad = True\n",
    "           "
   ]
  },
  {
   "cell_type": "markdown",
   "id": "b98667ea",
   "metadata": {},
   "source": [
    "## Making Model\n",
    "\n",
    "Model will follow WaveNet architecute, concatenating 2 by 2 characters until we concatenate all block_size characters into a single sequence"
   ]
  },
  {
   "cell_type": "code",
   "execution_count": 10,
   "id": "6cf4d48c",
   "metadata": {},
   "outputs": [],
   "source": [
    "emb_dim = 5\n",
    "n_hidden = 50\n",
    "model1 = Sequential([\n",
    "    Embedding(vocab_size, emb_dim),\n",
    "    Flatten(2), Linear(2*emb_dim, n_hidden, gain=5/3, bias=False), BatchNorm(n_hidden), Tanh(),\n",
    "    Flatten(2), Linear(2*n_hidden, n_hidden, gain=5/3, bias=False), BatchNorm(n_hidden), Tanh(),\n",
    "    Flatten(2), Linear(2*n_hidden, n_hidden, gain=5/3, bias=False), BatchNorm(n_hidden), Tanh(),\n",
    "    Linear(n_hidden, vocab_size, gain=0.01)\n",
    "])\n",
    "\n",
    "model1.to(device)\n",
    "\n",
    "for p in model1.parameters():\n",
    "      p.requires_grad = True"
   ]
  },
  {
   "cell_type": "markdown",
   "id": "8578b955",
   "metadata": {},
   "source": [
    "#### Finding Learning rate"
   ]
  },
  {
   "cell_type": "code",
   "execution_count": 228,
   "id": "225c68af",
   "metadata": {},
   "outputs": [
    {
     "data": {
      "image/png": "[encoded data removed]",
      "text/plain": [
       "<Figure size 640x480 with 1 Axes>"
      ]
     },
     "metadata": {},
     "output_type": "display_data"
    }
   ],
   "source": [
    "lre = torch.linspace(-3, 1, 3000)\n",
    "batch_size = 128\n",
    "find_learning_rate(lre, batch_size, model1)"
   ]
  },
  {
   "cell_type": "markdown",
   "id": "ae99d4c9",
   "metadata": {},
   "source": [
    "It seems like the good starting learning rate would be $1$"
   ]
  },
  {
   "cell_type": "markdown",
   "id": "b082d127",
   "metadata": {},
   "source": [
    "#### Training first model"
   ]
  },
  {
   "cell_type": "code",
   "execution_count": 11,
   "id": "3cb588ff",
   "metadata": {},
   "outputs": [
    {
     "name": "stdout",
     "output_type": "stream",
     "text": [
      "      0/ 200000: 3.7850\n",
      "  10000/ 200000: 2.0265\n",
      "  20000/ 200000: 2.0305\n",
      "  30000/ 200000: 1.9167\n",
      "  40000/ 200000: 1.8387\n",
      "  50000/ 200000: 1.8984\n",
      "  60000/ 200000: 1.9182\n",
      "  70000/ 200000: 2.0043\n",
      "  80000/ 200000: 1.7442\n",
      "  90000/ 200000: 1.8951\n",
      " 100000/ 200000: 1.9568\n",
      " 110000/ 200000: 1.8771\n",
      " 120000/ 200000: 1.8042\n",
      " 130000/ 200000: 2.0383\n",
      " 140000/ 200000: 1.8649\n",
      " 150000/ 200000: 2.0194\n",
      " 160000/ 200000: 2.0160\n",
      " 170000/ 200000: 1.8065\n",
      " 180000/ 200000: 1.9390\n",
      " 190000/ 200000: 1.7148\n",
      "Time elapsed: 2418.55 seconds\n"
     ]
    }
   ],
   "source": [
    "lr = 10**0\n",
    "batch_size = 128\n",
    "max_steps = 200000\n",
    "import time\n",
    "start = time.time()\n",
    "l = train_model(model1, batch_size, lr, max_steps)\n",
    "end = time.time()\n",
    "print(f\"Time elapsed: {end - start:.2f} seconds\")"
   ]
  },
  {
   "cell_type": "code",
   "execution_count": 232,
   "id": "4fcdcea9",
   "metadata": {},
   "outputs": [
    {
     "name": "stdout",
     "output_type": "stream",
     "text": [
      "train 1.7717525959014893\n",
      "dev 1.8788166046142578\n",
      "test 1.8939129114151\n"
     ]
    }
   ],
   "source": [
    "eval_split('train', model1)\n",
    "eval_split('dev', model1)"
   ]
  },
  {
   "cell_type": "code",
   "execution_count": 214,
   "id": "f817f918",
   "metadata": {},
   "outputs": [
    {
     "data": {
      "image/png": "[encoded data removed]",
      "text/plain": [
       "<Figure size 640x480 with 1 Axes>"
      ]
     },
     "metadata": {},
     "output_type": "display_data"
    }
   ],
   "source": [
    "plot_loss(l)"
   ]
  },
  {
   "cell_type": "markdown",
   "id": "1eef817c",
   "metadata": {},
   "source": [
    "#### Second model\n",
    "\n",
    "Let's try and increase embedding dimension"
   ]
  },
  {
   "cell_type": "code",
   "execution_count": 233,
   "id": "65da7716",
   "metadata": {},
   "outputs": [],
   "source": [
    "emb_dim = 10\n",
    "n_hidden = 50\n",
    "model1 = Sequential([\n",
    "    Embedding(vocab_size, emb_dim),\n",
    "    Flatten(2), Linear(2*emb_dim, n_hidden, gain=5/3, bias=False), BatchNorm(n_hidden), Tanh(),\n",
    "    Flatten(2), Linear(2*n_hidden, n_hidden, gain=5/3, bias=False), BatchNorm(n_hidden), Tanh(),\n",
    "    Flatten(2), Linear(2*n_hidden, n_hidden, gain=5/3, bias=False), BatchNorm(n_hidden), Tanh(),\n",
    "    Linear(n_hidden, vocab_size, gain=0.01)\n",
    "])\n",
    "\n",
    "for p in model1.parameters():\n",
    "      p.requires_grad = True"
   ]
  },
  {
   "cell_type": "code",
   "execution_count": 234,
   "id": "37978fea",
   "metadata": {},
   "outputs": [
    {
     "name": "stdout",
     "output_type": "stream",
     "text": [
      "      0/ 200000: 3.7835\n",
      "  10000/ 200000: 1.9314\n",
      "  20000/ 200000: 1.9528\n",
      "  30000/ 200000: 1.8970\n",
      "  40000/ 200000: 1.8809\n",
      "  50000/ 200000: 1.8742\n",
      "  60000/ 200000: 1.6860\n",
      "  70000/ 200000: 2.0275\n",
      "  80000/ 200000: 1.7873\n",
      "  90000/ 200000: 1.7507\n",
      " 100000/ 200000: 1.7964\n",
      " 110000/ 200000: 1.7945\n",
      " 120000/ 200000: 1.8538\n",
      " 130000/ 200000: 1.9863\n",
      " 140000/ 200000: 1.8186\n",
      " 150000/ 200000: 1.6959\n",
      " 160000/ 200000: 1.4761\n",
      " 170000/ 200000: 1.7962\n",
      " 180000/ 200000: 1.8741\n",
      " 190000/ 200000: 1.7319\n"
     ]
    }
   ],
   "source": [
    "lr = 10**0\n",
    "bath_size = 128\n",
    "max_steps = 200000\n",
    "l = train_model(model1, bath_size, lr, max_steps)"
   ]
  },
  {
   "cell_type": "code",
   "execution_count": 235,
   "id": "851626bc",
   "metadata": {},
   "outputs": [
    {
     "name": "stdout",
     "output_type": "stream",
     "text": [
      "train 1.7525131702423096\n",
      "dev 1.8703575134277344\n"
     ]
    }
   ],
   "source": [
    "eval_split('train', model1)\n",
    "eval_split('dev', model1)"
   ]
  },
  {
   "cell_type": "code",
   "execution_count": 236,
   "id": "28aa5d89",
   "metadata": {},
   "outputs": [
    {
     "data": {
      "image/png": "[encoded data removed]",
      "text/plain": [
       "<Figure size 640x480 with 1 Axes>"
      ]
     },
     "metadata": {},
     "output_type": "display_data"
    }
   ],
   "source": [
    "plot_loss(l)"
   ]
  },
  {
   "cell_type": "markdown",
   "id": "5963d9d6",
   "metadata": {},
   "source": [
    "We did lower our loss, but not by much, let's try to lift the emb dim to 15 and see if we should instead focus on the number of hidden layers."
   ]
  },
  {
   "cell_type": "markdown",
   "id": "af504b1a",
   "metadata": {},
   "source": [
    "#### Third Model"
   ]
  },
  {
   "cell_type": "code",
   "execution_count": 237,
   "id": "d0969e00",
   "metadata": {},
   "outputs": [
    {
     "name": "stdout",
     "output_type": "stream",
     "text": [
      "      0/ 200000: 3.7841\n",
      "  10000/ 200000: 1.8153\n",
      "  20000/ 200000: 1.7279\n",
      "  30000/ 200000: 1.9285\n",
      "  40000/ 200000: 1.8770\n",
      "  50000/ 200000: 1.7595\n",
      "  60000/ 200000: 2.0218\n",
      "  70000/ 200000: 1.8361\n",
      "  80000/ 200000: 1.9725\n",
      "  90000/ 200000: 1.8289\n",
      " 100000/ 200000: 1.9955\n",
      " 110000/ 200000: 1.8315\n",
      " 120000/ 200000: 1.8791\n",
      " 130000/ 200000: 1.5705\n",
      " 140000/ 200000: 1.9578\n",
      " 150000/ 200000: 1.7698\n",
      " 160000/ 200000: 1.8087\n",
      " 170000/ 200000: 1.5716\n",
      " 180000/ 200000: 2.0347\n",
      " 190000/ 200000: 1.8499\n"
     ]
    }
   ],
   "source": [
    "emb_dim = 15\n",
    "n_hidden = 50\n",
    "model1 = Sequential([\n",
    "    Embedding(vocab_size, emb_dim),\n",
    "    Flatten(2), Linear(2*emb_dim, n_hidden, gain=5/3, bias=False), BatchNorm(n_hidden), Tanh(),\n",
    "    Flatten(2), Linear(2*n_hidden, n_hidden, gain=5/3, bias=False), BatchNorm(n_hidden), Tanh(),\n",
    "    Flatten(2), Linear(2*n_hidden, n_hidden, gain=5/3, bias=False), BatchNorm(n_hidden), Tanh(),\n",
    "    Linear(n_hidden, vocab_size, gain=0.01)\n",
    "])\n",
    "\n",
    "for p in model1.parameters():\n",
    "      p.requires_grad = True\n",
    "        \n",
    "lr = 10**0\n",
    "bath_size = 128\n",
    "max_steps = 200000\n",
    "l = train_model(model1, bath_size, lr, max_steps)"
   ]
  },
  {
   "cell_type": "code",
   "execution_count": 238,
   "id": "6795ba5b",
   "metadata": {},
   "outputs": [
    {
     "name": "stdout",
     "output_type": "stream",
     "text": [
      "train 1.7297847270965576\n",
      "dev 1.8700472116470337\n"
     ]
    }
   ],
   "source": [
    "eval_split('train', model1)\n",
    "eval_split('dev', model1)"
   ]
  },
  {
   "cell_type": "code",
   "execution_count": 239,
   "id": "d5afbe78",
   "metadata": {},
   "outputs": [
    {
     "data": {
      "image/png": "[encoded data removed]",
      "text/plain": [
       "<Figure size 640x480 with 1 Axes>"
      ]
     },
     "metadata": {},
     "output_type": "display_data"
    }
   ],
   "source": [
    "plot_loss(l)"
   ]
  },
  {
   "cell_type": "markdown",
   "id": "e00742d5",
   "metadata": {},
   "source": [
    "It seems that the bottleneck is the number of nodes in the hidden layer let's try to increase it."
   ]
  },
  {
   "cell_type": "markdown",
   "id": "b22c7210",
   "metadata": {},
   "source": [
    "#### Fourth Model"
   ]
  },
  {
   "cell_type": "code",
   "execution_count": 240,
   "id": "67960940",
   "metadata": {},
   "outputs": [
    {
     "name": "stdout",
     "output_type": "stream",
     "text": [
      "      0/ 200000: 3.7842\n",
      "  10000/ 200000: 2.0595\n",
      "  20000/ 200000: 1.7127\n",
      "  30000/ 200000: 1.7434\n",
      "  40000/ 200000: 2.0550\n",
      "  50000/ 200000: 1.8222\n",
      "  60000/ 200000: 1.6862\n",
      "  70000/ 200000: 1.6508\n",
      "  80000/ 200000: 1.6719\n",
      "  90000/ 200000: 1.9118\n",
      " 100000/ 200000: 1.6162\n",
      " 110000/ 200000: 1.6416\n",
      " 120000/ 200000: 1.5533\n",
      " 130000/ 200000: 1.5843\n",
      " 140000/ 200000: 1.5762\n",
      " 150000/ 200000: 1.5145\n",
      " 160000/ 200000: 1.5889\n",
      " 170000/ 200000: 1.5497\n",
      " 180000/ 200000: 1.5303\n",
      " 190000/ 200000: 1.4717\n"
     ]
    }
   ],
   "source": [
    "emb_dim = 10\n",
    "n_hidden = 100\n",
    "model1 = Sequential([\n",
    "    Embedding(vocab_size, emb_dim),\n",
    "    Flatten(2), Linear(2*emb_dim, n_hidden, gain=5/3, bias=False), BatchNorm(n_hidden), Tanh(),\n",
    "    Flatten(2), Linear(2*n_hidden, n_hidden, gain=5/3, bias=False), BatchNorm(n_hidden), Tanh(),\n",
    "    Flatten(2), Linear(2*n_hidden, n_hidden, gain=5/3, bias=False), BatchNorm(n_hidden), Tanh(),\n",
    "    Linear(n_hidden, vocab_size, gain=0.01)\n",
    "])\n",
    "\n",
    "for p in model1.parameters():\n",
    "      p.requires_grad = True\n",
    "        \n",
    "lr = 10**0\n",
    "bath_size = 128\n",
    "max_steps = 200000\n",
    "l = train_model(model1, bath_size, lr, max_steps)"
   ]
  },
  {
   "cell_type": "code",
   "execution_count": null,
   "id": "18b3588a",
   "metadata": {},
   "outputs": [],
   "source": []
  },
  {
   "cell_type": "code",
   "execution_count": null,
   "id": "c1c6fd72",
   "metadata": {},
   "outputs": [],
   "source": []
  },
  {
   "cell_type": "code",
   "execution_count": 241,
   "id": "6f46939e",
   "metadata": {},
   "outputs": [
    {
     "name": "stdout",
     "output_type": "stream",
     "text": [
      "train 1.4773229360580444\n",
      "dev 1.875963568687439\n"
     ]
    }
   ],
   "source": [
    "eval_split('train', model1)\n",
    "eval_split('dev', model1)"
   ]
  },
  {
   "cell_type": "code",
   "execution_count": 242,
   "id": "cdec6b14",
   "metadata": {},
   "outputs": [
    {
     "data": {
      "image/png": "[encoded data removed]",
      "text/plain": [
       "<Figure size 640x480 with 1 Axes>"
      ]
     },
     "metadata": {},
     "output_type": "display_data"
    }
   ],
   "source": [
    "plot_loss(l)"
   ]
  },
  {
   "cell_type": "code",
   "execution_count": null,
   "id": "3010b5e6",
   "metadata": {},
   "outputs": [],
   "source": []
  },
  {
   "cell_type": "code",
   "execution_count": null,
   "id": "80e42d59",
   "metadata": {},
   "outputs": [],
   "source": []
  },
  {
   "cell_type": "code",
   "execution_count": 243,
   "id": "96e3516c",
   "metadata": {},
   "outputs": [
    {
     "name": "stdout",
     "output_type": "stream",
     "text": [
      "      0/ 200000: 3.7846\n",
      "  10000/ 200000: 1.8487\n",
      "  20000/ 200000: 1.6594\n",
      "  30000/ 200000: 1.7456\n",
      "  40000/ 200000: 1.7218\n",
      "  50000/ 200000: 1.5578\n",
      "  60000/ 200000: 1.5810\n",
      "  70000/ 200000: 1.6060\n",
      "  80000/ 200000: 1.8336\n",
      "  90000/ 200000: 1.8271\n",
      " 100000/ 200000: 1.5578\n",
      " 110000/ 200000: 1.4909\n",
      " 120000/ 200000: 1.8326\n",
      " 130000/ 200000: 1.4755\n",
      " 140000/ 200000: 1.4431\n",
      " 150000/ 200000: 1.5523\n",
      " 160000/ 200000: 1.4870\n",
      " 170000/ 200000: 1.3370\n",
      " 180000/ 200000: 1.7257\n",
      " 190000/ 200000: 1.6493\n"
     ]
    }
   ],
   "source": [
    "emb_dim = 15\n",
    "n_hidden = 100\n",
    "model1 = Sequential([\n",
    "    Embedding(vocab_size, emb_dim),\n",
    "    Flatten(2), Linear(2*emb_dim, n_hidden, gain=5/3, bias=False), BatchNorm(n_hidden), Tanh(),\n",
    "    Flatten(2), Linear(2*n_hidden, n_hidden, gain=5/3, bias=False), BatchNorm(n_hidden), Tanh(),\n",
    "    Flatten(2), Linear(2*n_hidden, n_hidden, gain=5/3, bias=False), BatchNorm(n_hidden), Tanh(),\n",
    "    Linear(n_hidden, vocab_size, gain=0.01)\n",
    "])\n",
    "\n",
    "for p in model1.parameters():\n",
    "      p.requires_grad = True\n",
    "        \n",
    "lr = 10**0\n",
    "bath_size = 128\n",
    "max_steps = 200000\n",
    "l = train_model(model1, bath_size, lr, max_steps)"
   ]
  },
  {
   "cell_type": "code",
   "execution_count": 244,
   "id": "71c2aa21",
   "metadata": {},
   "outputs": [
    {
     "name": "stdout",
     "output_type": "stream",
     "text": [
      "train 1.4621248245239258\n",
      "dev 1.8774704933166504\n"
     ]
    }
   ],
   "source": [
    "eval_split('train', model1)\n",
    "eval_split('dev', model1)"
   ]
  },
  {
   "cell_type": "code",
   "execution_count": null,
   "id": "a6dd7b35",
   "metadata": {},
   "outputs": [],
   "source": []
  },
  {
   "cell_type": "code",
   "execution_count": null,
   "id": "9310e36c",
   "metadata": {},
   "outputs": [],
   "source": []
  },
  {
   "cell_type": "code",
   "execution_count": null,
   "id": "7fa7ab80",
   "metadata": {},
   "outputs": [],
   "source": []
  },
  {
   "cell_type": "code",
   "execution_count": 245,
   "id": "ee0e8352",
   "metadata": {},
   "outputs": [],
   "source": [
    "emb_dim = 10\n",
    "n_hidden = 30\n",
    "model1 = Sequential([\n",
    "    Embedding(vocab_size, emb_dim),\n",
    "    Flatten(2), Linear(2*emb_dim, n_hidden, gain=5/3, bias=False), BatchNorm(n_hidden), Tanh(),\n",
    "    Flatten(2), Linear(2*n_hidden, 2*n_hidden, gain=5/3, bias=False), BatchNorm(2*n_hidden), Tanh(),\n",
    "    Flatten(2), Linear(4*n_hidden, 4*n_hidden, gain=5/3, bias=False), BatchNorm(4*n_hidden), Tanh(),\n",
    "    Linear(4*n_hidden, vocab_size, gain=0.01)\n",
    "])\n",
    "\n",
    "for p in model1.parameters():\n",
    "      p.requires_grad = True"
   ]
  },
  {
   "cell_type": "code",
   "execution_count": 247,
   "id": "22cc21db",
   "metadata": {},
   "outputs": [
    {
     "name": "stdout",
     "output_type": "stream",
     "text": [
      "      0/ 200000: 3.7835\n",
      "  10000/ 200000: 2.1505\n",
      "  20000/ 200000: 1.9677\n",
      "  30000/ 200000: 2.0095\n",
      "  40000/ 200000: 1.7002\n",
      "  50000/ 200000: 1.8601\n",
      "  60000/ 200000: 1.8632\n",
      "  70000/ 200000: 1.9258\n",
      "  80000/ 200000: 1.9844\n",
      "  90000/ 200000: 2.2682\n",
      " 100000/ 200000: 1.8704\n",
      " 110000/ 200000: 1.8450\n",
      " 120000/ 200000: 1.8061\n",
      " 130000/ 200000: 1.8143\n",
      " 140000/ 200000: 1.7772\n",
      " 150000/ 200000: 1.7805\n",
      " 160000/ 200000: 1.7396\n",
      " 170000/ 200000: 1.7366\n",
      " 180000/ 200000: 1.7968\n",
      " 190000/ 200000: 1.8754\n"
     ]
    }
   ],
   "source": [
    "lr = 10**0\n",
    "bath_size = 128\n",
    "max_steps = 200000\n",
    "l = train_model(model1, bath_size, lr, max_steps)"
   ]
  },
  {
   "cell_type": "code",
   "execution_count": 248,
   "id": "0fbd75a6",
   "metadata": {},
   "outputs": [
    {
     "name": "stdout",
     "output_type": "stream",
     "text": [
      "train 1.7068102359771729\n",
      "dev 1.8645890951156616\n"
     ]
    }
   ],
   "source": [
    "eval_split('train', model1)\n",
    "eval_split('dev', model1)"
   ]
  },
  {
   "cell_type": "code",
   "execution_count": 249,
   "id": "1a6ee28b",
   "metadata": {},
   "outputs": [],
   "source": [
    "emb_dim = 10\n",
    "n_hidden = 30\n",
    "model1 = Sequential([\n",
    "    Embedding(vocab_size, emb_dim),\n",
    "    Flatten(2), Linear(2*emb_dim, n_hidden, gain=5/3, bias=False), BatchNorm(n_hidden), Tanh(),\n",
    "    Flatten(2), Linear(2*n_hidden, 2*n_hidden, gain=5/3, bias=False), BatchNorm(2*n_hidden), Tanh(),\n",
    "    Flatten(2), Linear(4*n_hidden, 4*n_hidden, gain=5/3, bias=False), BatchNorm(4*n_hidden), Tanh(),\n",
    "    Linear(4*n_hidden, 2*n_hidden, gain=5/3, bias=False), BatchNorm(2*n_hidden), Tanh(),\n",
    "    Linear(2*n_hidden, vocab_size, gain=0.01)\n",
    "])\n",
    "\n",
    "for p in model1.parameters():\n",
    "      p.requires_grad = True"
   ]
  },
  {
   "cell_type": "code",
   "execution_count": 250,
   "id": "f53a683f",
   "metadata": {},
   "outputs": [
    {
     "name": "stdout",
     "output_type": "stream",
     "text": [
      "      0/ 200000: 3.7849\n",
      "  10000/ 200000: 1.9059\n",
      "  20000/ 200000: 1.6833\n",
      "  30000/ 200000: 1.9867\n",
      "  40000/ 200000: 1.8650\n",
      "  50000/ 200000: 1.6940\n",
      "  60000/ 200000: 1.8415\n",
      "  70000/ 200000: 1.6931\n",
      "  80000/ 200000: 1.5767\n",
      "  90000/ 200000: 1.6996\n",
      " 100000/ 200000: 1.6100\n",
      " 110000/ 200000: 1.8408\n",
      " 120000/ 200000: 1.7536\n",
      " 130000/ 200000: 1.7735\n",
      " 140000/ 200000: 1.7191\n",
      " 150000/ 200000: 1.6029\n",
      " 160000/ 200000: 1.5985\n",
      " 170000/ 200000: 1.6093\n",
      " 180000/ 200000: 1.5021\n",
      " 190000/ 200000: 1.5695\n"
     ]
    }
   ],
   "source": [
    "lr = 10**0\n",
    "bath_size = 128\n",
    "max_steps = 200000\n",
    "l = train_model(model1, bath_size, lr, max_steps)"
   ]
  },
  {
   "cell_type": "code",
   "execution_count": 251,
   "id": "8500b3f8",
   "metadata": {},
   "outputs": [
    {
     "name": "stdout",
     "output_type": "stream",
     "text": [
      "train 1.5817148685455322\n",
      "dev 1.8600505590438843\n"
     ]
    }
   ],
   "source": [
    "eval_split('train', model1)\n",
    "eval_split('dev', model1)"
   ]
  },
  {
   "cell_type": "code",
   "execution_count": 259,
   "id": "55c63723",
   "metadata": {},
   "outputs": [],
   "source": [
    "emb_dim = 10\n",
    "n_hidden = 30\n",
    "model1 = Sequential([\n",
    "    Embedding(vocab_size, emb_dim),\n",
    "    Flatten(2), Linear(2*emb_dim, n_hidden, gain=5/3, bias=False), BatchNorm(n_hidden), Tanh(),\n",
    "    Flatten(2), Linear(2*n_hidden, n_hidden, gain=5/3, bias=False), BatchNorm(n_hidden), Tanh(),\n",
    "    Flatten(2), Linear(2*n_hidden, n_hidden, gain=5/3, bias=False), BatchNorm(n_hidden), Tanh(),\n",
    "    Linear(n_hidden, n_hidden, gain=5/3, bias=False), BatchNorm(n_hidden), Tanh(),\n",
    "    Linear(n_hidden, vocab_size, gain=0.01)\n",
    "])\n",
    "\n",
    "for p in model1.parameters():\n",
    "      p.requires_grad = True"
   ]
  },
  {
   "cell_type": "code",
   "execution_count": 260,
   "id": "4ac55af6",
   "metadata": {},
   "outputs": [
    {
     "name": "stdout",
     "output_type": "stream",
     "text": [
      "      0/ 170000: 3.7833\n",
      "  10000/ 170000: 1.9464\n",
      "  20000/ 170000: 1.9312\n",
      "  30000/ 170000: 2.0062\n",
      "  40000/ 170000: 2.0421\n",
      "  50000/ 170000: 2.0634\n",
      "  60000/ 170000: 2.1748\n",
      "  70000/ 170000: 2.0407\n",
      "  80000/ 170000: 1.8188\n",
      "  90000/ 170000: 2.1499\n",
      " 100000/ 170000: 2.0404\n",
      " 110000/ 170000: 1.9121\n",
      " 120000/ 170000: 1.9333\n",
      " 130000/ 170000: 2.0099\n",
      " 140000/ 170000: 1.9154\n",
      " 150000/ 170000: 1.7604\n",
      " 160000/ 170000: 1.7610\n"
     ]
    }
   ],
   "source": [
    "lr = 10**0\n",
    "bath_size = 128\n",
    "max_steps = 170000\n",
    "l = train_model(model1, bath_size, lr, max_steps)"
   ]
  },
  {
   "cell_type": "code",
   "execution_count": 261,
   "id": "aef23342",
   "metadata": {},
   "outputs": [
    {
     "name": "stdout",
     "output_type": "stream",
     "text": [
      "train 1.8690942525863647\n",
      "dev 1.9205697774887085\n"
     ]
    }
   ],
   "source": [
    "eval_split('train', model1)\n",
    "eval_split('dev', model1)"
   ]
  }
 ],
 "metadata": {
  "kernelspec": {
   "display_name": "Python 3 (ipykernel)",
   "language": "python",
   "name": "python3"
  },
  "language_info": {
   "codemirror_mode": {
    "name": "ipython",
    "version": 3
   },
   "file_extension": ".py",
   "mimetype": "text/x-python",
   "name": "python",
   "nbconvert_exporter": "python",
   "pygments_lexer": "ipython3",
   "version": "3.10.15"
  }
 },
 "nbformat": 4,
 "nbformat_minor": 5
}
